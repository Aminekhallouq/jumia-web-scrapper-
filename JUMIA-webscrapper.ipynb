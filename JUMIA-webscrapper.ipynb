{
 "cells": [
  {
   "cell_type": "markdown",
   "id": "ea2f0204-0586-4807-bd99-1b3abdb49e42",
   "metadata": {},
   "source": [
    "#  JUMIA WEB SCRAPPER"
   ]
  },
  {
   "cell_type": "code",
   "execution_count": 935,
   "id": "e156d9ba-4f7d-4080-a082-b9796d813808",
   "metadata": {},
   "outputs": [],
   "source": [
    "# used libraries\n",
    "import csv\n",
    "from bs4 import BeautifulSoup\n",
    "from selenium import webdriver\n",
    "from datetime import date\n",
    "import os\n",
    "import time"
   ]
  },
  {
   "cell_type": "code",
   "execution_count": 936,
   "id": "56658d82-9c57-4135-86b1-477ac109d921",
   "metadata": {},
   "outputs": [],
   "source": [
    "#recording start time\n",
    "start=time.time()"
   ]
  },
  {
   "cell_type": "code",
   "execution_count": 937,
   "id": "79f82139-9dd5-4e52-8ddb-1cc71a2a734c",
   "metadata": {},
   "outputs": [],
   "source": [
    "#opening web driver \n",
    "driver = webdriver.Chrome( 'C:\\\\Users\\\\youssef\\\\Desktop\\\\chromedriver_win32\\\\chromedriver.exe' ) # insert your web driver path here "
   ]
  },
  {
   "cell_type": "code",
   "execution_count": 938,
   "id": "aeb14ae8-759c-4818-9623-49e02f1b5719",
   "metadata": {},
   "outputs": [],
   "source": [
    "today=date.today()\n",
    "d1 = today.strftime(\"%d/%m/%Y\")"
   ]
  },
  {
   "cell_type": "markdown",
   "id": "43141902-bd77-4e92-b323-91a571ea6919",
   "metadata": {},
   "source": [
    "###                                     FUNCTIONS "
   ]
  },
  {
   "cell_type": "markdown",
   "id": "ead03b18-7c53-46fe-ac24-ca33c2dcf8a3",
   "metadata": {},
   "source": [
    "###  item informations exctraction fonction"
   ]
  },
  {
   "cell_type": "code",
   "execution_count": 939,
   "id": "2658207b-bf7f-40c6-8b24-1f1b15dfa718",
   "metadata": {},
   "outputs": [],
   "source": [
    "def extract(item,a):\n",
    "    #infos\n",
    "    name = item.find('h3','name').text\n",
    "    \n",
    "    brandroot = item.find('a','core')\n",
    "    brand = brandroot.get('data-brand')\n",
    "    try:\n",
    "          discount = item.find('div','tag _dsct _sm').text\n",
    "    except AttributeError:\n",
    "        discount = '0'\n",
    "        \n",
    "    \n",
    "    price = item.find('div','prc').text \n",
    "    \n",
    "    try:\n",
    "        old_price = item.find('div','old').text\n",
    "    except AttributeError:\n",
    "           old_price = 'none' \n",
    "        \n",
    "        \n",
    "    category = brandroot.get('data-category')\n",
    "    \n",
    "    try:\n",
    "        review=item.find('div','stars _s').text\n",
    "    except AttributeError:\n",
    "        review ='absent'\n",
    "    \n",
    "    if item.get('class') == ['prd', '_fb', 'col', 'c-prd'] : spnsrd =0\n",
    "    else : spnsrd =1\n",
    "     \n",
    "    try:\n",
    "        picture=item.find('img',{'alt':''})\n",
    "        picture_url=picture.get('src')\n",
    "        \n",
    "    except AttributeError:\n",
    "        picture_url='none'\n",
    "        \n",
    "        \n",
    "    extracted=(name,brand,category,price,old_price,discount,review,spnsrd,picture_url ,d1,a)\n",
    "    \n",
    "    return(extracted)\n",
    "    "
   ]
  },
  {
   "cell_type": "markdown",
   "id": "5506de5e-41dd-4c9b-9498-0c0e8c8a0c8a",
   "metadata": {},
   "source": [
    "### categorys url creation fonction:"
   ]
  },
  {
   "cell_type": "code",
   "execution_count": 941,
   "id": "e504239c-f3af-4432-af3e-90e29803327e",
   "metadata": {},
   "outputs": [],
   "source": [
    "def urlmaker(href):\n",
    "        if href.find('jumia.ma')  == -1 :\n",
    "            if href.find('?shipped_from=country_local') != -1:\n",
    "                    A=['https://www.jumia.ma/',href,'&page=0#catalog-listing']\n",
    "                    separator = ''\n",
    "                    link=(separator.join(A))\n",
    "                    \n",
    "    \n",
    "            else :\n",
    "                     A=['https://www.jumia.ma/',href,'?page=0#catalog-listing']\n",
    "                     separator = ''\n",
    "                     link=(separator.join(A))\n",
    "           \n",
    "            return(link)"
   ]
  },
  {
   "cell_type": "markdown",
   "id": "72677446-ec9e-410d-b4f9-4fdfe4d4656b",
   "metadata": {},
   "source": [
    "### max pages extraction fonction "
   ]
  },
  {
   "cell_type": "code",
   "execution_count": 942,
   "id": "077df2cc-5fd1-475e-b721-5c89ca449bf6",
   "metadata": {},
   "outputs": [],
   "source": [
    "def numbrpg(url):\n",
    "    driver.get(url)\n",
    "    try:\n",
    "        soups= BeautifulSoup(driver.page_source, 'html.parser')\n",
    "        a= soups.find('div',{'class':'pg-w -ptm -pbxl'})\n",
    "        b=a.find('a',{'aria-label':'Dernière page'})\n",
    "        c=b.get('href')\n",
    "        start=c.find('page=')+5\n",
    "        end=c.find('#catalog-listing')\n",
    "        i=int(c[start:end])\n",
    "    except AttributeError :\n",
    "        i=1\n",
    "    return(i)"
   ]
  },
  {
   "cell_type": "code",
   "execution_count": 831,
   "id": "422bdc36-ed2e-405a-b6d2-949b6d1ece51",
   "metadata": {},
   "outputs": [],
   "source": []
  },
  {
   "cell_type": "markdown",
   "id": "b237000b-b448-4f9a-aab9-4647372b9ab1",
   "metadata": {},
   "source": [
    "## links extractions :"
   ]
  },
  {
   "cell_type": "code",
   "execution_count": 926,
   "id": "60dce307-0c3b-411c-8291-dcea74cff7dd",
   "metadata": {},
   "outputs": [],
   "source": [
    "driver = webdriver.Chrome( 'C:\\\\Users\\\\youssef\\\\Desktop\\\\chromedriver_win32\\\\chromedriver.exe' )"
   ]
  },
  {
   "cell_type": "code",
   "execution_count": 943,
   "id": "7d396196-6adf-4dac-b230-64844baf6364",
   "metadata": {},
   "outputs": [],
   "source": [
    "url='https://www.jumia.ma/epicerie-boissons/?shipped_from=country_local'\n",
    "driver.get(url)"
   ]
  },
  {
   "cell_type": "code",
   "execution_count": 949,
   "id": "7fcd4fd6-e82e-438c-9222-6a5d79d39fac",
   "metadata": {},
   "outputs": [],
   "source": [
    "soup = BeautifulSoup(driver.page_source, 'html.parser')"
   ]
  },
  {
   "cell_type": "code",
   "execution_count": 950,
   "id": "21e19bbb-1e84-43ca-a8d4-f97bc55375b0",
   "metadata": {},
   "outputs": [],
   "source": [
    "link_id=[]\n",
    "link_id=  soup.find_all('div',{'class' : 'sub'},{'role','menu'})"
   ]
  },
  {
   "cell_type": "code",
   "execution_count": null,
   "id": "fccbabac-2706-4374-8d2c-df63f61e68d8",
   "metadata": {},
   "outputs": [],
   "source": []
  },
  {
   "cell_type": "code",
   "execution_count": 951,
   "id": "ce33af2b-cdea-4831-b967-f00bbe399a4a",
   "metadata": {},
   "outputs": [],
   "source": [
    "links=[]\n",
    "for j in link_id :\n",
    "    test=j.find_all('a',{'role':'menuitem'})\n",
    "    for k in test :\n",
    "            A=[]\n",
    "            href=str(k.get('href'))\n",
    "            if href !='None' :\n",
    "                    link=urlmaker(href)\n",
    "                    if link != None :\n",
    "                        A.append([])\n",
    "                        A.append(link)\n",
    "                        A.append(k.text)\n",
    "                        A.append(numbrpg(link))\n",
    "                        links.append(A)\n",
    "               "
   ]
  },
  {
   "cell_type": "code",
   "execution_count": null,
   "id": "2b322b94-f25d-4897-a356-e4ef9d2f1b02",
   "metadata": {},
   "outputs": [],
   "source": [
    "links"
   ]
  },
  {
   "cell_type": "code",
   "execution_count": 842,
   "id": "143f7be5-efcc-4f46-8e2b-16bf42e488f4",
   "metadata": {},
   "outputs": [],
   "source": [
    "driver.close()"
   ]
  },
  {
   "cell_type": "code",
   "execution_count": 953,
   "id": "1a03fa75-91a3-49b5-9361-8006edd7fa57",
   "metadata": {},
   "outputs": [
    {
     "name": "stdout",
     "output_type": "stream",
     "text": [
      "341\n"
     ]
    }
   ],
   "source": [
    "print(len(links))\n",
    "for j in links :\n",
    "    if j[1]==None:\n",
    "        print(j)"
   ]
  },
  {
   "cell_type": "code",
   "execution_count": 954,
   "id": "7a7a0a78-ed1f-46ac-b846-57a5646ce5ec",
   "metadata": {},
   "outputs": [],
   "source": [
    "final_links=[]\n",
    "for j in links :\n",
    "     if j[1]!=None:\n",
    "            final_links.append(j)"
   ]
  },
  {
   "cell_type": "code",
   "execution_count": 955,
   "id": "47aa4ab2-6eeb-404d-9adf-38925daa5030",
   "metadata": {},
   "outputs": [
    {
     "data": {
      "text/plain": [
       "341"
      ]
     },
     "execution_count": 955,
     "metadata": {},
     "output_type": "execute_result"
    }
   ],
   "source": [
    "len(final_links)"
   ]
  },
  {
   "cell_type": "code",
   "execution_count": 956,
   "id": "19334f12-5964-44d8-84ab-c3f9879f22cd",
   "metadata": {},
   "outputs": [
    {
     "data": {
      "text/plain": [
       "[[],\n",
       " 'https://www.jumia.ma//epicerie-boissons/?shipped_from=country_local&page=0#catalog-listing',\n",
       " 'Eaux, boissons',\n",
       " 24]"
      ]
     },
     "execution_count": 956,
     "metadata": {},
     "output_type": "execute_result"
    }
   ],
   "source": [
    "links[0]"
   ]
  },
  {
   "cell_type": "markdown",
   "id": "768eb277-adea-49fb-92bf-d5afc22dda81",
   "metadata": {},
   "source": [
    "## items data extraction"
   ]
  },
  {
   "cell_type": "code",
   "execution_count": 826,
   "id": "34bbe9de-5772-4ade-a184-fe6c93ecca00",
   "metadata": {},
   "outputs": [],
   "source": [
    "driver = webdriver.Chrome( 'C:\\\\Users\\\\youssef\\\\Desktop\\\\chromedriver_win32\\\\chromedriver.exe' )"
   ]
  },
  {
   "cell_type": "code",
   "execution_count": 957,
   "id": "97e3220c-b213-4f1f-9639-141e1ecacdc3",
   "metadata": {},
   "outputs": [],
   "source": [
    "for j in links : \n",
    "    \n",
    "        for i in range (j[3]):\n",
    "            url=j[1]\n",
    "            urls = url.replace('0',str(i+1))\n",
    "            \n",
    "            driver.get(urls)\n",
    "           \n",
    "            soup = BeautifulSoup(driver.page_source, 'html.parser')\n",
    "    \n",
    "            mainlist = soup.find_all('article',{'class' : 'prd _fb col c-prd'})\n",
    "            sponsord = soup.find_all('article',{'class': 'prd _fb _spn c-prd col'})\n",
    "    \n",
    "            for item in mainlist:\n",
    "                j[0].append(extract(item,j[2]))\n",
    "            \n",
    "            for item in  sponsord :\n",
    "                j[0].append(extract(item,j[2]))                         \n",
    "    "
   ]
  },
  {
   "cell_type": "code",
   "execution_count": null,
   "id": "c80342b8-4bf4-44ee-85a7-ec9e2d06ac1a",
   "metadata": {},
   "outputs": [],
   "source": [
    "x=0\n",
    "for j in links:\n",
    "    print(j[2],len(j[0]))\n",
    "    x=x+len(j[0])\n"
   ]
  },
  {
   "cell_type": "code",
   "execution_count": 959,
   "id": "b86f4c7e-fc5d-4048-aad2-e414e4c06f96",
   "metadata": {},
   "outputs": [
    {
     "data": {
      "text/plain": [
       "395163"
      ]
     },
     "execution_count": 959,
     "metadata": {},
     "output_type": "execute_result"
    }
   ],
   "source": [
    "x"
   ]
  },
  {
   "cell_type": "code",
   "execution_count": 960,
   "id": "be21188e-39de-475d-b8b5-a8808fb22483",
   "metadata": {},
   "outputs": [],
   "source": [
    "for j in links :\n",
    "    \n",
    "        cld=[]\n",
    "        cld = list(dict.fromkeys(j[0]))\n",
    "        j[0]=cld\n"
   ]
  },
  {
   "cell_type": "code",
   "execution_count": null,
   "id": "29b8744b-36e8-4390-869d-a761fbc9c1d3",
   "metadata": {},
   "outputs": [],
   "source": [
    "x=0\n",
    "for j in links:\n",
    "    print(len(j[0]))\n",
    "    x=x+len(j[0])\n"
   ]
  },
  {
   "cell_type": "markdown",
   "id": "5386a11a-cd11-49db-b9d9-4134e904c0f7",
   "metadata": {},
   "source": [
    "## joining data"
   ]
  },
  {
   "cell_type": "code",
   "execution_count": 962,
   "id": "d1978010-a8a7-452e-a675-013c365e8d68",
   "metadata": {},
   "outputs": [],
   "source": [
    "final=[]\n",
    "for j in links :\n",
    "    final=final+j[0]"
   ]
  },
  {
   "cell_type": "code",
   "execution_count": 963,
   "id": "6388b1e6-c526-42ac-8237-69b016fe960c",
   "metadata": {},
   "outputs": [],
   "source": [
    "cld=[]\n",
    "cld = list(dict.fromkeys(final))\n",
    "final=cld"
   ]
  },
  {
   "cell_type": "code",
   "execution_count": 964,
   "id": "d2939412-ce7a-4090-acc1-d339f59ac3c9",
   "metadata": {},
   "outputs": [
    {
     "name": "stdout",
     "output_type": "stream",
     "text": [
      "False\n"
     ]
    }
   ],
   "source": [
    "a_set=set(final)\n",
    "contains_duplicates = len(final) != len(a_set)\n",
    "print(contains_duplicates)"
   ]
  },
  {
   "cell_type": "markdown",
   "id": "cc00931d-1eb5-461b-aca6-390ef69f81ec",
   "metadata": {},
   "source": [
    "## saving data"
   ]
  },
  {
   "cell_type": "code",
   "execution_count": 965,
   "id": "15e738ed-fc21-4adc-ae80-01fca76ec0d2",
   "metadata": {},
   "outputs": [],
   "source": [
    "A=['data of',str(today)]\n",
    "separator = ' '\n",
    "dirname=(separator.join(A))"
   ]
  },
  {
   "cell_type": "code",
   "execution_count": 966,
   "id": "e5f5b3d6-c9e6-4c66-bfa0-0ce667a75dd1",
   "metadata": {},
   "outputs": [
    {
     "name": "stdout",
     "output_type": "stream",
     "text": [
      "C:\\Users\\youssef\\Desktop\\WEBScrapper python\\data\\data of 2021-08-01\n"
     ]
    }
   ],
   "source": [
    "dir = os.path.join(\"C:\\\\Users\\\\youssef\\\\Desktop\\\\WEBScrapper python\\\\data\",dirname)#saving directory here\n",
    "if not os.path.exists(dir):\n",
    "    os.mkdir(dir)\n",
    "os.chdir(dir)\n",
    "cwd = os.getcwd()\n",
    "print(cwd)"
   ]
  },
  {
   "cell_type": "code",
   "execution_count": 967,
   "id": "7ead48b7-cb1b-4572-bb3e-bb601796ce7d",
   "metadata": {},
   "outputs": [],
   "source": [
    "with open('results_final.csv','w',newline='',encoding='UTF-8') as f:\n",
    "    writer=csv.writer(f)\n",
    "    writer.writerow(['name','brand','category','price','old price','discount','review','sponsorship','picture url','date','site categoration'])\n",
    "    writer.writerows(final)"
   ]
  },
  {
   "cell_type": "code",
   "execution_count": null,
   "id": "87f92c77-0ee7-49ba-81a0-8bcf8ecc5ac8",
   "metadata": {},
   "outputs": [],
   "source": [
    "#to export data as individual sets \n",
    "for j in final_links :\n",
    "    \n",
    "    a=[j[2],'data of',str(today),'.csv']\n",
    "    separator = ' '\n",
    "    dataname=(separator.join(a))\n",
    "    with open(dataname,'w',newline='',encoding='UTF-8') as f:\n",
    "        writer=csv.writer(f)\n",
    "        writer.writerow(['name','brand','category','price','old price','discount','review','sponsorship','picture url','date','site categoration'])\n",
    "        writer.writerows(j[0])\n",
    "\n",
    "        "
   ]
  },
  {
   "cell_type": "code",
   "execution_count": 970,
   "id": "0a594d90-5361-4a78-ae72-19a5136dbb34",
   "metadata": {},
   "outputs": [],
   "source": [
    "dir = os.path.join(\"C:\\\\Users\\\\youssef\\\\Desktop\")\n",
    "os.chdir(dir)"
   ]
  },
  {
   "cell_type": "markdown",
   "id": "67b420af-3c75-4b25-82ec-98e8c779cd92",
   "metadata": {},
   "source": [
    "## process duration "
   ]
  },
  {
   "cell_type": "code",
   "execution_count": 969,
   "id": "816f06b2-b478-413d-a3f5-1b5f06ada9fc",
   "metadata": {},
   "outputs": [
    {
     "name": "stdout",
     "output_type": "stream",
     "text": [
      "13649.464428186417\n"
     ]
    }
   ],
   "source": [
    "end=time.time()\n",
    "print(end - start)"
   ]
  }
 ],
 "metadata": {
  "kernelspec": {
   "display_name": "Python 3",
   "language": "python",
   "name": "python3"
  },
  "language_info": {
   "codemirror_mode": {
    "name": "ipython",
    "version": 3
   },
   "file_extension": ".py",
   "mimetype": "text/x-python",
   "name": "python",
   "nbconvert_exporter": "python",
   "pygments_lexer": "ipython3",
   "version": "3.8.8"
  }
 },
 "nbformat": 4,
 "nbformat_minor": 5
}
